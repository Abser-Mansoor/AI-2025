{
 "cells": [
  {
   "cell_type": "code",
   "execution_count": 1,
   "metadata": {},
   "outputs": [
    {
     "name": "stdout",
     "output_type": "stream",
     "text": [
      "7 is the peak\n"
     ]
    }
   ],
   "source": [
    "def query(x) :\n",
    "    return -1 * (x - 7)**2 + 49\n",
    "\n",
    "def find_peak(n) :\n",
    "    low, high = 0, n\n",
    "    while (low < high) :\n",
    "        mid = (low + high) // 2\n",
    "        if (query(mid) < query(mid+1)) :\n",
    "            low = mid + 1\n",
    "        else :\n",
    "            high = mid\n",
    "    return high\n",
    "\n",
    "print(f\"{find_peak(200)} is the peak\")"
   ]
  },
  {
   "cell_type": "code",
   "execution_count": null,
   "metadata": {},
   "outputs": [],
   "source": [
    "import random\n",
    "\n",
    "tasks = [5, 8, 4, 7, 6, 3, 9]\n",
    "facilities = [24, 30, 28]\n",
    "\n",
    "cost_matrix = [\n",
    "    [10, 12, 9], \n",
    "    [15, 14, 16],\n",
    "    [8, 9, 7],   \n",
    "    [12, 10, 13],\n",
    "    [14, 13, 12],\n",
    "    [9, 8, 10],  \n",
    "    [11, 12, 13] \n",
    "]\n",
    "\n",
    "POPULATION_SIZE = 6\n",
    "CROSSOVER_RATE = 0.8\n",
    "MUTATION_RATE = 0.2\n",
    "GENERATIONS = 50\n",
    "\n"
   ]
  }
 ],
 "metadata": {
  "kernelspec": {
   "display_name": "Python 3",
   "language": "python",
   "name": "python3"
  },
  "language_info": {
   "codemirror_mode": {
    "name": "ipython",
    "version": 3
   },
   "file_extension": ".py",
   "mimetype": "text/x-python",
   "name": "python",
   "nbconvert_exporter": "python",
   "pygments_lexer": "ipython3",
   "version": "3.11.4"
  }
 },
 "nbformat": 4,
 "nbformat_minor": 2
}
